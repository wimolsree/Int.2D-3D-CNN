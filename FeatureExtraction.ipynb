{
  "nbformat": 4,
  "nbformat_minor": 0,
  "metadata": {
    "colab": {
      "provenance": [],
      "machine_shape": "hm",
      "gpuClass": "premium",
      "gpuType": "L4"
    },
    "kernelspec": {
      "name": "python3",
      "display_name": "Python 3"
    },
    "language_info": {
      "name": "python"
    },
    "accelerator": "GPU"
  },
  "cells": [
    {
      "cell_type": "markdown",
      "metadata": {
        "id": "spK4P1ImcpUo"
      },
      "source": [
        "# Load Dataset and Load Model"
      ]
    },
    {
      "cell_type": "code",
      "metadata": {
        "id": "V9hmySXNbFFC"
      },
      "source": [
        "\n",
        "import numpy as np\n",
        "dataX_hoc = np.load('/dataset/hoc/datatrain_75.npy')\n",
        "dataX_movie = np.load('/dataset/movies/movies_train75.npy')\n",
        "dataX_violentflow = np.load('/dataset/violentflow/datatrain_75.npy')"
      ],
      "execution_count": null,
      "outputs": []
    },
    {
      "cell_type": "code",
      "metadata": {
        "id": "HjupSJq6Z4PS"
      },
      "source": [
        "import tensorflow as tf\n",
        "hoc_mbv1 = '/basemodel/model2d_hoc/hockey_model2_MobileNet.hdf5'\n",
        "hoc_mbv2 = '/basemodel/model2d_hoc/hockey_model2_MobileNetV2.hdf5'\n",
        "\n",
        "movie_mbv1 = '/basemodel/model2d_movies/movie_model_MobileNet.hdf5'\n",
        "movie_mbv2 = '/basemodel/model2d_movies/movie_model_MobileNetV2.hdf5'\n",
        "\n",
        "violentflow_mbv1 = '/basemodel/model2d_violentflow/violentflow_model2_MobileNet.hdf5'\n",
        "violentflow_mbv2 = '/basemodel/model2d_violentflow/violentflow_model2_MobileNetV2.hdf5'"
      ],
      "execution_count": 1,
      "outputs": []
    },
    {
      "cell_type": "code",
      "metadata": {
        "id": "AVs43xkRdXvo"
      },
      "source": [
        "import tensorflow as tf\n",
        "model1 = tf.keras.models.load_model(hoc_mbv1)\n",
        "model2 = tf.keras.models.load_model(hoc_mbv2)"
      ],
      "execution_count": null,
      "outputs": []
    },
    {
      "cell_type": "code",
      "metadata": {
        "id": "gASGpQJJdftQ",
        "collapsed": true
      },
      "source": [
        "from tensorflow.keras.models import Model\n",
        "from tensorflow.keras.layers import Input\n",
        "\n",
        "model_1 = Model(inputs=model1.input,outputs=model1.layers[-3].output)\n",
        "model_1.summary()"
      ],
      "execution_count": null,
      "outputs": []
    },
    {
      "cell_type": "code",
      "metadata": {
        "id": "0XU1rT8Xkeh-",
        "collapsed": true
      },
      "source": [
        "from tensorflow.keras.models import Model\n",
        "from tensorflow.keras.layers import Input\n",
        "\n",
        "model_2 = Model(inputs=model2.input,outputs=model2.layers[-3].output)\n",
        "model_2.summary()"
      ],
      "execution_count": null,
      "outputs": []
    },
    {
      "cell_type": "code",
      "metadata": {
        "id": "WU9yhQjxkire"
      },
      "source": [
        "from tensorflow.keras.optimizers import SGD\n",
        "opt = SGD(lr=0.1,momentum=0.9,nesterov=True)\n",
        "model_1.compile(optimizer=opt,loss='binary_crossentropy',metrics=['acc'])"
      ],
      "execution_count": null,
      "outputs": []
    },
    {
      "cell_type": "code",
      "source": [
        "from tensorflow.keras.optimizers import SGD\n",
        "opt = SGD(lr=0.1,momentum=0.9,nesterov=True)\n",
        "model_2.compile(optimizer=opt,loss='binary_crossentropy',metrics=['acc'])"
      ],
      "metadata": {
        "id": "U_YlCHe_Zc_h"
      },
      "execution_count": null,
      "outputs": []
    },
    {
      "cell_type": "markdown",
      "source": [
        "# Feature Extraction and Feature Fusion"
      ],
      "metadata": {
        "id": "UwAHoClvjFJP"
      }
    },
    {
      "cell_type": "code",
      "source": [
        "feat1 = model_1.predict(dataX)\n",
        "feat1.shape"
      ],
      "metadata": {
        "id": "tzQiiQB4jIxo"
      },
      "execution_count": null,
      "outputs": []
    },
    {
      "cell_type": "code",
      "source": [
        "feat2 = model_2.predict(dataX)\n",
        "feat2.shape"
      ],
      "metadata": {
        "id": "fjBQ-Y2djOWf"
      },
      "execution_count": null,
      "outputs": []
    },
    {
      "cell_type": "markdown",
      "metadata": {
        "id": "3ssa7cv_r6tG"
      },
      "source": [
        "# Concat Feature"
      ]
    },
    {
      "cell_type": "code",
      "metadata": {
        "id": "ryETsuKMr-3c"
      },
      "source": [
        "import numpy as np\n",
        "combine_feat = np.concatenate([feat1,feat2],axis=4)\n",
        "combine_feat.shape"
      ],
      "execution_count": null,
      "outputs": []
    }
  ]
}