{
  "cells": [
    {
      "cell_type": "code",
      "execution_count": null,
      "metadata": {
        "id": "-NgVJ_Tfhle5"
      },
      "outputs": [],
      "source": [
        "from tensorflow.keras.layers import GlobalAveragePooling2D,BatchNormalization,Dropout\n",
        "from tensorflow.keras.applications import MobileNet,MobileNetV2,ResNet50V2,MobileNetV3Small\n",
        "from tensorflow.keras.layers import Dense, Input\n",
        "from tensorflow.keras.models import Model\n",
        "from tensorflow.python.keras.layers.pooling import GlobalAveragePooling1D,GlobalAveragePooling2D,GlobalAveragePooling3D\n",
        "from tensorflow.python.keras.layers.recurrent import LSTM\n",
        "from tensorflow.keras.layers import TimeDistributed\n",
        "from tensorflow.keras.optimizers import Nadam\n",
        "\n",
        "frames=16\n",
        "channels=3\n",
        "rows=224\n",
        "columns=224\n",
        "path_model=''"
      ]
    },
    {
      "cell_type": "code",
      "execution_count": null,
      "metadata": {
        "id": "R759KXTrhn6J"
      },
      "outputs": [],
      "source": [
        "def get_cnnbase(name):\n",
        "\n",
        "  if name=='MobileNet':\n",
        "    cnn_base = MobileNet(weights='imagenet', include_top=False, input_tensor=Input(shape=(rows,columns,channels)))\n",
        "  elif name=='MobileNetV2':\n",
        "    cnn_base = MobileNetV2(weights='imagenet', include_top=False, input_tensor=Input(shape=(rows,columns,channels)))\n",
        "\n",
        "  cnn_base.summary()\n",
        "  return cnn_base"
      ]
    },
    {
      "cell_type": "markdown",
      "metadata": {
        "id": "LBMTeXHIMdNt"
      },
      "source": [
        "# Load Dataset"
      ]
    },
    {
      "cell_type": "code",
      "execution_count": null,
      "metadata": {
        "id": "CgfL8l_uMhvn"
      },
      "outputs": [],
      "source": [
        "import numpy as np\n",
        "#Hockey dataset\n",
        "dataX = np.load('/dataset/hoc/datatrain_75.npy')\n",
        "labels_id = np.load('/dataset/hoc/labeltrain_75.npy')\n",
        "\n",
        "#Movie dataset\n",
        "dataX = np.load('/dataset/movie/datatrain_75.npy')\n",
        "labels_id = np.load('/dataset/movie/labeltrain_75.npy')\n",
        "\n",
        "#Violent Flow dataset\n",
        "dataX = np.load('/dataset/violentflow/datatrain_75.npy')\n",
        "labels_id = np.load('/dataset/violentflow/labeltrain_75.npy')\n",
        "\n",
        "#integrat three datasets\n",
        "dataX = np.load('/dataset/mix/mixdataset_train75.npy')\n",
        "labels_id = np.load('/dataset/mix/mixdataset_label75.npy')"
      ]
    },
    {
      "cell_type": "code",
      "source": [
        "from sklearn.model_selection import train_test_split\n",
        "X_train, X_test, y_train, y_test = train_test_split(dataX, labels_id, test_size=0.25, random_state=42)"
      ],
      "metadata": {
        "id": "z0yLSw0alSGV"
      },
      "execution_count": null,
      "outputs": []
    },
    {
      "cell_type": "markdown",
      "source": [
        "# Create Model"
      ],
      "metadata": {
        "id": "JZ4LhYJ7gXVh"
      }
    },
    {
      "cell_type": "code",
      "execution_count": null,
      "metadata": {
        "id": "HikinqSFxS6D"
      },
      "outputs": [],
      "source": [
        "def model(cnn_base):\n",
        "  x = cnn_base.output\n",
        "  cnn = Model(cnn_base.input,x)\n",
        "  video = Input(shape=(frames,rows,columns,channels))\n",
        "\n",
        "  cnn.trainable = False\n",
        "\n",
        "  encoded_frames = TimeDistributed(cnn)(video)\n",
        "  hidden_layer = Dense(1024, activation=\"relu\")(encoded_frames)\n",
        "  hidden_layer = GlobalAveragePooling3D()(hidden_layer)\n",
        "  outputs = Dense(2, activation='softmax')(hidden_layer)\n",
        "  model = Model([video], outputs)\n",
        "  return model"
      ]
    },
    {
      "cell_type": "markdown",
      "source": [
        "# Train Model"
      ],
      "metadata": {
        "id": "3JzHZTJphrDo"
      }
    },
    {
      "cell_type": "code",
      "execution_count": null,
      "metadata": {
        "id": "ZG_PTBF5xVSz"
      },
      "outputs": [],
      "source": [
        "def train_modelBase(name,model_name,bz,l_r):\n",
        "  from tensorflow.keras.optimizers import SGD\n",
        "  from keras.callbacks import ModelCheckpoint,ReduceLROnPlateau\n",
        "  import time\n",
        "  import numpy as np\n",
        "  name = ['MobileNet','MobileNetV2']\n",
        "  cnn_base = get_cnnbase(name)\n",
        "\n",
        "  if model_name == 'model':\n",
        "    model = model(cnn_base)\n",
        "\n",
        "  optimizer_new=SGD(lr=l_r, momentum=0.9, nesterov=True)\n",
        "  model.compile(optimizer=optimizer_new,loss='binary_crossentropy',metrics=['acc'])\n",
        "  checkpointer = ModelCheckpoint(filepath='/cnnmodel/'+name+'.hdf5', verbose=1, save_best_only=True)\n",
        "  history_new_cnlst=model.fit(X_train,y_train,batch_size=bz,epochs=500,validation_data=(X_test,y_test),callbacks=[checkpointer])\n",
        "  end_time = time.time() - start_time\n",
        "    _, test_acc_cv = model.evaluate(X_test, y_test, verbose=0)\n",
        "  return test_acc_cv,end_time"
      ]
    },
    {
      "cell_type": "code",
      "source": [
        "batchsize = [4,8]\n",
        "learingrate = [0.01,0.001,0.0001,0.00001]\n",
        "\n",
        "test_acc_cv,end_time = train_modelBase('MobileNet','model',batchsize,learingrate)\n",
        "test_acc_cv,end_time = train_modelBase('MobileNetV2','model',batchsize,learingrate)"
      ],
      "metadata": {
        "id": "-4ZwtMq9hwKg"
      },
      "execution_count": null,
      "outputs": []
    }
  ],
  "metadata": {
    "accelerator": "GPU",
    "colab": {
      "machine_shape": "hm",
      "provenance": [],
      "gpuClass": "premium"
    },
    "gpuClass": "premium",
    "kernelspec": {
      "display_name": "Python 3",
      "name": "python3"
    },
    "language_info": {
      "name": "python"
    }
  },
  "nbformat": 4,
  "nbformat_minor": 0
}